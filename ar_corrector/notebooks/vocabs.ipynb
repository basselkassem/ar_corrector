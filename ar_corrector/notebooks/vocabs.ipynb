{
 "metadata": {
  "language_info": {
   "codemirror_mode": {
    "name": "ipython",
    "version": 3
   },
   "file_extension": ".py",
   "mimetype": "text/x-python",
   "name": "python",
   "nbconvert_exporter": "python",
   "pygments_lexer": "ipython3",
   "version": "3.8.8-final"
  },
  "orig_nbformat": 2,
  "kernelspec": {
   "name": "python388jvsc74a57bd098b0a9b7b4eaaa670588a142fd0a9b87eaafe866f1db4228be72b4211d12040f",
   "display_name": "Python 3.8.8 64-bit ('conda': virtualenv)"
  }
 },
 "nbformat": 4,
 "nbformat_minor": 2,
 "cells": [
  {
   "cell_type": "code",
   "execution_count": 1,
   "metadata": {},
   "outputs": [
    {
     "output_type": "stream",
     "name": "stdout",
     "text": [
      "Vocabs Size: 354750\n"
     ]
    }
   ],
   "source": [
    "import matplotlib.pyplot as plt\n",
    "from ar_corrector import io_handler\n",
    "import numpy as np"
   ]
  },
  {
   "cell_type": "code",
   "execution_count": 4,
   "metadata": {},
   "outputs": [
    {
     "output_type": "stream",
     "name": "stdout",
     "text": [
      "Vocabs Size: 354750\n"
     ]
    }
   ],
   "source": [
    "vocabs = io_handler.load_dict_file('../resources/vocabs.pickle')\n",
    "print('Vocabs Size:', len(vocabs))"
   ]
  },
  {
   "cell_type": "code",
   "execution_count": 8,
   "metadata": {},
   "outputs": [
    {
     "output_type": "stream",
     "name": "stdout",
     "text": [
      "[['من' '101903']\n ['في' '95729']\n ['و' '75839']\n ['.' '67823']\n ['عل' '37738']\n ['أن' '34670']\n ['لا' '30637']\n ['ما' '29883']\n ['عن' '29680']\n ['،' '26015']\n ['الكتاب' '24460']\n ['ف' '23773']\n ['ان' '21463']\n ['الرواية' '20397']\n ['لم' '19969']\n ['هذا' '19904']\n ['التي' '19228']\n ['كل' '18124']\n ['إل' '17076']\n ['كان' '15818']\n ['هو' '15081']\n ['كتاب' '13906']\n ['مع' '13560']\n ['هذه' '13422']\n [':' '12639']\n ['الله' '12508']\n ['الذي' '11926']\n ['كانت' '10234']\n ['أو' '10216']\n ['رواية' '10052']]\n"
     ]
    }
   ],
   "source": [
    "svocabs = np.array(sorted(vocabs.items(), key = lambda item: item[1], reverse = True))\n",
    "\n",
    "lim = 30\n",
    "print(svocabs[:lim])"
   ]
  },
  {
   "cell_type": "code",
   "execution_count": 9,
   "metadata": {},
   "outputs": [
    {
     "output_type": "stream",
     "name": "stdout",
     "text": [
      "[['خطبني' '1']\n ['وفرِحْتُ' '1']\n ['وفرِحَتْ،' '1']\n ['والانحطاط،' '1']\n ['أكرمني،' '1']\n ['مبتغاي.' '1']\n ['وحالتها،' '1']\n ['وتَطَوَّرَتْ' '1']\n ['وتتطوَّرَ' '1']\n ['أتزوجها،' '1']\n ['تُلزِمُني' '1']\n ['كوظيفة' '1']\n ['أضحي،' '1']\n ['أتظو' '1']\n ['أتوظف' '1']\n ['نفسي؛' '1']\n ['أرتاح،' '1']\n ['أجلبها' '1']\n ['وتوظفت' '1']\n ['أتزوجها' '1']\n ['وعشقنا' '1']\n ['وجنوننا،' '1']\n ['وأوفي' '1']\n ['بوعدي' '1']\n ['بوعدها،' '1']\n ['لبعض،' '1']\n ['أمورنا،' '1']\n ['وأ،' '1']\n ['ضيقي،' '1']]\n"
     ]
    }
   ],
   "source": [
    "print(svocabs[-lim: -1])"
   ]
  },
  {
   "cell_type": "code",
   "execution_count": 11,
   "metadata": {},
   "outputs": [
    {
     "output_type": "stream",
     "name": "stdout",
     "text": [
      "[['الأخيرة' '679']\n ['ببهو' '1']\n ['وقرار' '4']\n ['متلاحمه' '1']\n ['والدهاء' '5']\n ['الكاريكتورية' '2']\n ['الملاجئ' '3']\n ['أكرّس' '1']\n ['وتألفهم' '1']\n ['،الوطن،' '1']\n ['وانفاذه' '1']\n ['لليهوديه' '1']\n ['تخوين.' '1']\n ['معجما' '1']\n ['نتيحة' '1']\n ['وبدلات' '2']\n ['التحايل' '13']\n ['فَأَقِمْ' '1']\n ['عالرمال.' '1']\n ['يمسه' '3']\n ['مترابطه،' '1']\n ['نعي،' '4']\n ['رجالٌ' '7']\n ['اتقاناً' '1']\n ['سواءاً' '6']\n ['لأسطر' '1']\n ['أعتز' '4']\n ['أبر' '2']\n ['المكّي' '1']\n ['ألسنتنا' '3']]\n"
     ]
    }
   ],
   "source": [
    "randind = np.random.randint(len(svocabs), size = lim)\n",
    "print(svocabs[randind])"
   ]
  },
  {
   "cell_type": "code",
   "execution_count": null,
   "metadata": {},
   "outputs": [],
   "source": []
  }
 ]
}